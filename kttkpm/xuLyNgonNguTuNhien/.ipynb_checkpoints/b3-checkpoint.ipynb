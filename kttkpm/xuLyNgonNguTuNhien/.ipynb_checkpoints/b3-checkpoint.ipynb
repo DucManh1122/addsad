{
 "cells": [
  {
   "cell_type": "code",
   "execution_count": 28,
   "id": "3c0a66b9",
   "metadata": {},
   "outputs": [
    {
     "name": "stdout",
     "output_type": "stream",
     "text": [
      "sentence    Wow... Loved this place.\n",
      "label                              1\n",
      "source                          yelp\n",
      "Name: 0, dtype: object\n"
     ]
    }
   ],
   "source": [
    "import pandas as pd\n",
    "\n",
    "filepath_dict = {'yelp':   'sentiment/yelp_labelled.txt',\n",
    "                 'amazon': 'sentiment/amazon_cells_labelled.txt',\n",
    "                 'imdb':   'sentiment/imdb_labelled.txt'}\n",
    "\n",
    "df_list = []\n",
    "for source, filepath in filepath_dict.items():\n",
    "    df = pd.read_csv(filepath, names=['sentence', 'label'], sep='\\t')\n",
    "    df['source'] = source  # Add another column filled with the source name\n",
    "    df_list.append(df)\n",
    "\n",
    "df = pd.concat(df_list)\n",
    "print(df.iloc[0])"
   ]
  },
  {
   "cell_type": "code",
   "execution_count": 49,
   "id": "470ccfdc",
   "metadata": {},
   "outputs": [
    {
     "data": {
      "text/html": [
       "<div>\n",
       "<style scoped>\n",
       "    .dataframe tbody tr th:only-of-type {\n",
       "        vertical-align: middle;\n",
       "    }\n",
       "\n",
       "    .dataframe tbody tr th {\n",
       "        vertical-align: top;\n",
       "    }\n",
       "\n",
       "    .dataframe thead th {\n",
       "        text-align: right;\n",
       "    }\n",
       "</style>\n",
       "<table border=\"1\" class=\"dataframe\">\n",
       "  <thead>\n",
       "    <tr style=\"text-align: right;\">\n",
       "      <th></th>\n",
       "      <th>sentence</th>\n",
       "      <th>label</th>\n",
       "      <th>source</th>\n",
       "    </tr>\n",
       "  </thead>\n",
       "  <tbody>\n",
       "    <tr>\n",
       "      <th>0</th>\n",
       "      <td>Wow... Loved this place.</td>\n",
       "      <td>1</td>\n",
       "      <td>yelp</td>\n",
       "    </tr>\n",
       "    <tr>\n",
       "      <th>1</th>\n",
       "      <td>Crust is not good.</td>\n",
       "      <td>0</td>\n",
       "      <td>yelp</td>\n",
       "    </tr>\n",
       "    <tr>\n",
       "      <th>2</th>\n",
       "      <td>Not tasty and the texture was just nasty.</td>\n",
       "      <td>0</td>\n",
       "      <td>yelp</td>\n",
       "    </tr>\n",
       "    <tr>\n",
       "      <th>3</th>\n",
       "      <td>Stopped by during the late May bank holiday of...</td>\n",
       "      <td>1</td>\n",
       "      <td>yelp</td>\n",
       "    </tr>\n",
       "    <tr>\n",
       "      <th>4</th>\n",
       "      <td>The selection on the menu was great and so wer...</td>\n",
       "      <td>1</td>\n",
       "      <td>yelp</td>\n",
       "    </tr>\n",
       "    <tr>\n",
       "      <th>...</th>\n",
       "      <td>...</td>\n",
       "      <td>...</td>\n",
       "      <td>...</td>\n",
       "    </tr>\n",
       "    <tr>\n",
       "      <th>743</th>\n",
       "      <td>I just got bored watching Jessice Lange take h...</td>\n",
       "      <td>0</td>\n",
       "      <td>imdb</td>\n",
       "    </tr>\n",
       "    <tr>\n",
       "      <th>744</th>\n",
       "      <td>Unfortunately, any virtue in this film's produ...</td>\n",
       "      <td>0</td>\n",
       "      <td>imdb</td>\n",
       "    </tr>\n",
       "    <tr>\n",
       "      <th>745</th>\n",
       "      <td>In a word, it is embarrassing.</td>\n",
       "      <td>0</td>\n",
       "      <td>imdb</td>\n",
       "    </tr>\n",
       "    <tr>\n",
       "      <th>746</th>\n",
       "      <td>Exceptionally bad!</td>\n",
       "      <td>0</td>\n",
       "      <td>imdb</td>\n",
       "    </tr>\n",
       "    <tr>\n",
       "      <th>747</th>\n",
       "      <td>All in all its an insult to one's intelligence...</td>\n",
       "      <td>0</td>\n",
       "      <td>imdb</td>\n",
       "    </tr>\n",
       "  </tbody>\n",
       "</table>\n",
       "<p>2748 rows × 3 columns</p>\n",
       "</div>"
      ],
      "text/plain": [
       "                                              sentence  label source\n",
       "0                             Wow... Loved this place.      1   yelp\n",
       "1                                   Crust is not good.      0   yelp\n",
       "2            Not tasty and the texture was just nasty.      0   yelp\n",
       "3    Stopped by during the late May bank holiday of...      1   yelp\n",
       "4    The selection on the menu was great and so wer...      1   yelp\n",
       "..                                                 ...    ...    ...\n",
       "743  I just got bored watching Jessice Lange take h...      0   imdb\n",
       "744  Unfortunately, any virtue in this film's produ...      0   imdb\n",
       "745                   In a word, it is embarrassing.        0   imdb\n",
       "746                               Exceptionally bad!        0   imdb\n",
       "747  All in all its an insult to one's intelligence...      0   imdb\n",
       "\n",
       "[2748 rows x 3 columns]"
      ]
     },
     "execution_count": 49,
     "metadata": {},
     "output_type": "execute_result"
    }
   ],
   "source": [
    "df"
   ]
  },
  {
   "cell_type": "code",
   "execution_count": 29,
   "id": "b934fcf1",
   "metadata": {},
   "outputs": [],
   "source": [
    "sentences = ['John likes ice cream', 'John hates chocolate.']"
   ]
  },
  {
   "cell_type": "code",
   "execution_count": 30,
   "id": "8ba498b1",
   "metadata": {},
   "outputs": [
    {
     "data": {
      "text/plain": [
       "{'John': 0, 'likes': 5, 'ice': 4, 'cream': 2, 'hates': 3, 'chocolate': 1}"
      ]
     },
     "execution_count": 30,
     "metadata": {},
     "output_type": "execute_result"
    }
   ],
   "source": [
    "from sklearn.feature_extraction.text import CountVectorizer\n",
    "\n",
    "vectorizer = CountVectorizer(min_df=0, lowercase=False)\n",
    "vectorizer.fit(sentences)\n",
    "vectorizer.vocabulary_"
   ]
  },
  {
   "cell_type": "code",
   "execution_count": 31,
   "id": "436ffa91",
   "metadata": {},
   "outputs": [
    {
     "data": {
      "text/plain": [
       "array([[1, 0, 1, 0, 1, 1],\n",
       "       [1, 1, 0, 1, 0, 0]], dtype=int64)"
      ]
     },
     "execution_count": 31,
     "metadata": {},
     "output_type": "execute_result"
    }
   ],
   "source": [
    "vectorizer.transform(sentences).toarray()"
   ]
  },
  {
   "cell_type": "code",
   "execution_count": 32,
   "id": "26facfc6",
   "metadata": {},
   "outputs": [],
   "source": [
    "from sklearn.model_selection import train_test_split\n",
    "\n",
    "df_yelp = df[df['source'] == 'yelp']\n",
    "\n",
    "sentences = df_yelp['sentence'].values\n",
    "y = df_yelp['label'].values\n",
    "\n",
    "sentences_train, sentences_test, y_train, y_test = train_test_split(sentences, y, test_size=0.25, random_state=1000)"
   ]
  },
  {
   "cell_type": "code",
   "execution_count": 33,
   "id": "be7a81a5",
   "metadata": {},
   "outputs": [
    {
     "data": {
      "text/plain": [
       "<750x1714 sparse matrix of type '<class 'numpy.int64'>'\n",
       "\twith 7368 stored elements in Compressed Sparse Row format>"
      ]
     },
     "execution_count": 33,
     "metadata": {},
     "output_type": "execute_result"
    }
   ],
   "source": [
    "from sklearn.feature_extraction.text import CountVectorizer\n",
    "\n",
    "vectorizer = CountVectorizer()\n",
    "vectorizer.fit(sentences_train)\n",
    "\n",
    "X_train = vectorizer.transform(sentences_train)\n",
    "X_test  = vectorizer.transform(sentences_test)\n",
    "X_train"
   ]
  },
  {
   "cell_type": "code",
   "execution_count": 34,
   "id": "a7a4ba8b",
   "metadata": {},
   "outputs": [
    {
     "name": "stdout",
     "output_type": "stream",
     "text": [
      "Accuracy: 0.796\n"
     ]
    }
   ],
   "source": [
    "from sklearn.linear_model import LogisticRegression\n",
    "\n",
    "classifier = LogisticRegression()\n",
    "classifier.fit(X_train, y_train)\n",
    "score = classifier.score(X_test, y_test)\n",
    "\n",
    "print(\"Accuracy:\", score)"
   ]
  },
  {
   "cell_type": "code",
   "execution_count": 35,
   "id": "189fd44a",
   "metadata": {},
   "outputs": [
    {
     "name": "stdout",
     "output_type": "stream",
     "text": [
      "Accuracy for yelp data: 0.7960\n",
      "Accuracy for amazon data: 0.7960\n",
      "Accuracy for imdb data: 0.7487\n"
     ]
    }
   ],
   "source": [
    "for source in df['source'].unique():\n",
    "    df_source = df[df['source'] == source]\n",
    "    sentences = df_source['sentence'].values\n",
    "    y = df_source['label'].values\n",
    "\n",
    "    sentences_train, sentences_test, y_train, y_test = train_test_split(\n",
    "        sentences, y, test_size=0.25, random_state=1000)\n",
    "\n",
    "    vectorizer = CountVectorizer()\n",
    "    vectorizer.fit(sentences_train)\n",
    "    X_train = vectorizer.transform(sentences_train)\n",
    "    X_test  = vectorizer.transform(sentences_test)\n",
    "\n",
    "    classifier = LogisticRegression()\n",
    "    classifier.fit(X_train, y_train)\n",
    "    score = classifier.score(X_test, y_test)\n",
    "    print('Accuracy for {} data: {:.4f}'.format(source, score))"
   ]
  },
  {
   "cell_type": "code",
   "execution_count": 36,
   "id": "b4f51fdb",
   "metadata": {},
   "outputs": [],
   "source": [
    "from keras.models import Sequential\n",
    "from keras import layers\n",
    "\n",
    "input_dim = X_train.shape[1]  # Number of features\n",
    "\n",
    "model = Sequential()\n",
    "model.add(layers.Dense(10, input_dim=input_dim, activation='relu'))\n",
    "model.add(layers.Dense(1, activation='sigmoid'))"
   ]
  },
  {
   "cell_type": "code",
   "execution_count": 37,
   "id": "3ffbe48e",
   "metadata": {},
   "outputs": [
    {
     "name": "stdout",
     "output_type": "stream",
     "text": [
      "Model: \"sequential\"\n",
      "_________________________________________________________________\n",
      " Layer (type)                Output Shape              Param #   \n",
      "=================================================================\n",
      " dense (Dense)               (None, 10)                25060     \n",
      "                                                                 \n",
      " dense_1 (Dense)             (None, 1)                 11        \n",
      "                                                                 \n",
      "=================================================================\n",
      "Total params: 25,071\n",
      "Trainable params: 25,071\n",
      "Non-trainable params: 0\n",
      "_________________________________________________________________\n"
     ]
    }
   ],
   "source": [
    "model.compile(loss='binary_crossentropy', optimizer='adam', metrics=['accuracy'])\n",
    "model.summary()"
   ]
  },
  {
   "cell_type": "code",
   "execution_count": 38,
   "id": "69700f90",
   "metadata": {},
   "outputs": [
    {
     "name": "stderr",
     "output_type": "stream",
     "text": [
      "C:\\Users\\lucky\\anaconda3\\lib\\site-packages\\tensorflow\\python\\framework\\indexed_slices.py:444: UserWarning: Converting sparse IndexedSlices(IndexedSlices(indices=Tensor(\"gradient_tape/sequential/dense/embedding_lookup_sparse/Reshape_1:0\", shape=(None,), dtype=int32), values=Tensor(\"gradient_tape/sequential/dense/embedding_lookup_sparse/Reshape:0\", shape=(None, 10), dtype=float32), dense_shape=Tensor(\"gradient_tape/sequential/dense/embedding_lookup_sparse/Cast:0\", shape=(2,), dtype=int32))) to a dense Tensor of unknown shape. This may consume a large amount of memory.\n",
      "  warnings.warn(\n"
     ]
    }
   ],
   "source": [
    "history = model.fit(X_train, y_train,epochs=100,verbose=False,validation_data=(X_test, y_test),batch_size=10)"
   ]
  },
  {
   "cell_type": "code",
   "execution_count": 39,
   "id": "8186ac19",
   "metadata": {},
   "outputs": [
    {
     "data": {
      "text/plain": [
       "{'loss': [0.6882518529891968,\n",
       "  0.6261276006698608,\n",
       "  0.552566409111023,\n",
       "  0.4568706154823303,\n",
       "  0.3691902756690979,\n",
       "  0.29852497577667236,\n",
       "  0.24282003939151764,\n",
       "  0.1992924064397812,\n",
       "  0.16671355068683624,\n",
       "  0.1405053734779358,\n",
       "  0.11997432261705399,\n",
       "  0.1030513122677803,\n",
       "  0.08890711516141891,\n",
       "  0.07795517146587372,\n",
       "  0.06833707541227341,\n",
       "  0.06042319908738136,\n",
       "  0.0538657009601593,\n",
       "  0.048288341611623764,\n",
       "  0.04355253279209137,\n",
       "  0.03935467079281807,\n",
       "  0.03579467907547951,\n",
       "  0.03261895850300789,\n",
       "  0.02970394864678383,\n",
       "  0.027263537049293518,\n",
       "  0.025122789666056633,\n",
       "  0.02317616157233715,\n",
       "  0.02136906422674656,\n",
       "  0.019817085936665535,\n",
       "  0.01837783120572567,\n",
       "  0.017077649012207985,\n",
       "  0.015880446881055832,\n",
       "  0.01485502440482378,\n",
       "  0.01388524379581213,\n",
       "  0.012996756471693516,\n",
       "  0.012168878689408302,\n",
       "  0.01142868772149086,\n",
       "  0.010745341889560223,\n",
       "  0.010086501017212868,\n",
       "  0.009530486539006233,\n",
       "  0.008960392326116562,\n",
       "  0.008501033298671246,\n",
       "  0.008062404580414295,\n",
       "  0.0076484051533043385,\n",
       "  0.007288671098649502,\n",
       "  0.006938041187822819,\n",
       "  0.006623483262956142,\n",
       "  0.00633688410744071,\n",
       "  0.006073622964322567,\n",
       "  0.00579794542863965,\n",
       "  0.005541661754250526,\n",
       "  0.005388751160353422,\n",
       "  0.0051326933316886425,\n",
       "  0.004907738417387009,\n",
       "  0.004710487090051174,\n",
       "  0.004559327382594347,\n",
       "  0.004384943749755621,\n",
       "  0.0042259604670107365,\n",
       "  0.0041002812795341015,\n",
       "  0.003960400354117155,\n",
       "  0.003839337732642889,\n",
       "  0.00371833355166018,\n",
       "  0.0035966092254966497,\n",
       "  0.003489565569907427,\n",
       "  0.0033859654795378447,\n",
       "  0.0033010353799909353,\n",
       "  0.0032139825634658337,\n",
       "  0.0031254668720066547,\n",
       "  0.003050731960684061,\n",
       "  0.0029661343432962894,\n",
       "  0.0028848652727901936,\n",
       "  0.0028136339969933033,\n",
       "  0.0027431140188127756,\n",
       "  0.0026802541688084602,\n",
       "  0.002625595312565565,\n",
       "  0.002580096013844013,\n",
       "  0.0025222001131623983,\n",
       "  0.0024749215226620436,\n",
       "  0.0024225879460573196,\n",
       "  0.002371234819293022,\n",
       "  0.002321456093341112,\n",
       "  0.0022754899691790342,\n",
       "  0.0022311098873615265,\n",
       "  0.0021879246924072504,\n",
       "  0.0021465232130140066,\n",
       "  0.0021117120049893856,\n",
       "  0.0020760565530508757,\n",
       "  0.0020441203378140926,\n",
       "  0.0020178495906293392,\n",
       "  0.001986909192055464,\n",
       "  0.0019570409785956144,\n",
       "  0.001923352014273405,\n",
       "  0.0018926163902506232,\n",
       "  0.0018633089493960142,\n",
       "  0.0018353030318394303,\n",
       "  0.0018075326224789023,\n",
       "  0.001781621715053916,\n",
       "  0.00175624736584723,\n",
       "  0.0017322381027042866,\n",
       "  0.0017087989253923297,\n",
       "  0.0016904502408578992],\n",
       " 'accuracy': [0.5632798671722412,\n",
       "  0.8146167397499084,\n",
       "  0.8877005577087402,\n",
       "  0.926916241645813,\n",
       "  0.9661319255828857,\n",
       "  0.9696969985961914,\n",
       "  0.9750445485115051,\n",
       "  0.9857397675514221,\n",
       "  0.9893048405647278,\n",
       "  0.9928698539733887,\n",
       "  0.9964349269866943,\n",
       "  0.9982174634933472,\n",
       "  0.9982174634933472,\n",
       "  0.9982174634933472,\n",
       "  0.9982174634933472,\n",
       "  0.9982174634933472,\n",
       "  0.9982174634933472,\n",
       "  0.9982174634933472,\n",
       "  0.9982174634933472,\n",
       "  0.9982174634933472,\n",
       "  0.9982174634933472,\n",
       "  0.9982174634933472,\n",
       "  0.9982174634933472,\n",
       "  0.9982174634933472,\n",
       "  0.9982174634933472,\n",
       "  0.9982174634933472,\n",
       "  0.9982174634933472,\n",
       "  0.9982174634933472,\n",
       "  0.9982174634933472,\n",
       "  0.9982174634933472,\n",
       "  0.9982174634933472,\n",
       "  0.9982174634933472,\n",
       "  0.9982174634933472,\n",
       "  0.9982174634933472,\n",
       "  0.9982174634933472,\n",
       "  0.9982174634933472,\n",
       "  0.9982174634933472,\n",
       "  0.9982174634933472,\n",
       "  0.9982174634933472,\n",
       "  0.9982174634933472,\n",
       "  0.9982174634933472,\n",
       "  0.9982174634933472,\n",
       "  0.9982174634933472,\n",
       "  0.9982174634933472,\n",
       "  0.9982174634933472,\n",
       "  0.9982174634933472,\n",
       "  0.9982174634933472,\n",
       "  0.9982174634933472,\n",
       "  0.9982174634933472,\n",
       "  0.9982174634933472,\n",
       "  0.9982174634933472,\n",
       "  0.9982174634933472,\n",
       "  0.9982174634933472,\n",
       "  0.9982174634933472,\n",
       "  0.9982174634933472,\n",
       "  0.9982174634933472,\n",
       "  0.9982174634933472,\n",
       "  0.9982174634933472,\n",
       "  0.9982174634933472,\n",
       "  0.9982174634933472,\n",
       "  0.9982174634933472,\n",
       "  0.9982174634933472,\n",
       "  0.9982174634933472,\n",
       "  0.9982174634933472,\n",
       "  0.9982174634933472,\n",
       "  0.9982174634933472,\n",
       "  0.9982174634933472,\n",
       "  0.9982174634933472,\n",
       "  0.9982174634933472,\n",
       "  0.9982174634933472,\n",
       "  0.9982174634933472,\n",
       "  0.9982174634933472,\n",
       "  0.9982174634933472,\n",
       "  0.9982174634933472,\n",
       "  0.9982174634933472,\n",
       "  0.9982174634933472,\n",
       "  0.9982174634933472,\n",
       "  0.9982174634933472,\n",
       "  0.9982174634933472,\n",
       "  0.9982174634933472,\n",
       "  0.9982174634933472,\n",
       "  0.9982174634933472,\n",
       "  0.9982174634933472,\n",
       "  0.9982174634933472,\n",
       "  0.9982174634933472,\n",
       "  0.9982174634933472,\n",
       "  0.9982174634933472,\n",
       "  0.9982174634933472,\n",
       "  0.9982174634933472,\n",
       "  0.9982174634933472,\n",
       "  0.9982174634933472,\n",
       "  0.9982174634933472,\n",
       "  1.0,\n",
       "  1.0,\n",
       "  1.0,\n",
       "  1.0,\n",
       "  1.0,\n",
       "  1.0,\n",
       "  1.0,\n",
       "  1.0],\n",
       " 'val_loss': [0.6730528473854065,\n",
       "  0.6874966025352478,\n",
       "  0.644519031047821,\n",
       "  0.6029013395309448,\n",
       "  0.6047223806381226,\n",
       "  0.5586119294166565,\n",
       "  0.5422179102897644,\n",
       "  0.5299383401870728,\n",
       "  0.5286828279495239,\n",
       "  0.5584487318992615,\n",
       "  0.5090663433074951,\n",
       "  0.5220062136650085,\n",
       "  0.5325973629951477,\n",
       "  0.5468695163726807,\n",
       "  0.5202096700668335,\n",
       "  0.534859299659729,\n",
       "  0.5393732190132141,\n",
       "  0.5497297048568726,\n",
       "  0.5406691431999207,\n",
       "  0.5448917150497437,\n",
       "  0.5581589937210083,\n",
       "  0.5605577826499939,\n",
       "  0.566129744052887,\n",
       "  0.5729697346687317,\n",
       "  0.5738293528556824,\n",
       "  0.5801185965538025,\n",
       "  0.5827951431274414,\n",
       "  0.5993440747261047,\n",
       "  0.5996536016464233,\n",
       "  0.6108878254890442,\n",
       "  0.6120815873146057,\n",
       "  0.6229804158210754,\n",
       "  0.6360594034194946,\n",
       "  0.6410021781921387,\n",
       "  0.6430957913398743,\n",
       "  0.6512070298194885,\n",
       "  0.6447191834449768,\n",
       "  0.6694331765174866,\n",
       "  0.6736035943031311,\n",
       "  0.6725887656211853,\n",
       "  0.6823203563690186,\n",
       "  0.6836409568786621,\n",
       "  0.6978263854980469,\n",
       "  0.7015016674995422,\n",
       "  0.7105213403701782,\n",
       "  0.7089650630950928,\n",
       "  0.7227551341056824,\n",
       "  0.7261648774147034,\n",
       "  0.7359344959259033,\n",
       "  0.7395056486129761,\n",
       "  0.7738492488861084,\n",
       "  0.7568293213844299,\n",
       "  0.7495402097702026,\n",
       "  0.7527998685836792,\n",
       "  0.7559368014335632,\n",
       "  0.7614317536354065,\n",
       "  0.7638311386108398,\n",
       "  0.7729383707046509,\n",
       "  0.7759091854095459,\n",
       "  0.7901692986488342,\n",
       "  0.7929665446281433,\n",
       "  0.8014355897903442,\n",
       "  0.8041950464248657,\n",
       "  0.8143084645271301,\n",
       "  0.8195381164550781,\n",
       "  0.8161256909370422,\n",
       "  0.8277183771133423,\n",
       "  0.8345797657966614,\n",
       "  0.8404449820518494,\n",
       "  0.8357405066490173,\n",
       "  0.8367411494255066,\n",
       "  0.8435394763946533,\n",
       "  0.8568919897079468,\n",
       "  0.8605525493621826,\n",
       "  0.8651982545852661,\n",
       "  0.8645079731941223,\n",
       "  0.8658750057220459,\n",
       "  0.8647920489311218,\n",
       "  0.8727920651435852,\n",
       "  0.8750572204589844,\n",
       "  0.8798633217811584,\n",
       "  0.8828268051147461,\n",
       "  0.8906072378158569,\n",
       "  0.8994866013526917,\n",
       "  0.9030979871749878,\n",
       "  0.9109624624252319,\n",
       "  0.9162721633911133,\n",
       "  0.9161642789840698,\n",
       "  0.9219388961791992,\n",
       "  0.9198794364929199,\n",
       "  0.9181967973709106,\n",
       "  0.9208368062973022,\n",
       "  0.9239879846572876,\n",
       "  0.9268527626991272,\n",
       "  0.929868221282959,\n",
       "  0.9404435753822327,\n",
       "  0.9462969899177551,\n",
       "  0.9533079266548157,\n",
       "  0.9526557922363281,\n",
       "  0.9574823975563049],\n",
       " 'val_accuracy': [0.6470588445663452,\n",
       "  0.7005347609519958,\n",
       "  0.7326202988624573,\n",
       "  0.7540106773376465,\n",
       "  0.7540106773376465,\n",
       "  0.759358286857605,\n",
       "  0.7700534462928772,\n",
       "  0.7700534462928772,\n",
       "  0.7754010558128357,\n",
       "  0.7807486653327942,\n",
       "  0.7914438247680664,\n",
       "  0.7914438247680664,\n",
       "  0.7914438247680664,\n",
       "  0.7914438247680664,\n",
       "  0.8021390438079834,\n",
       "  0.8021390438079834,\n",
       "  0.7967914342880249,\n",
       "  0.7967914342880249,\n",
       "  0.7967914342880249,\n",
       "  0.7967914342880249,\n",
       "  0.7967914342880249,\n",
       "  0.8021390438079834,\n",
       "  0.7967914342880249,\n",
       "  0.7967914342880249,\n",
       "  0.7914438247680664,\n",
       "  0.7860962748527527,\n",
       "  0.7860962748527527,\n",
       "  0.7914438247680664,\n",
       "  0.7914438247680664,\n",
       "  0.7914438247680664,\n",
       "  0.7914438247680664,\n",
       "  0.7860962748527527,\n",
       "  0.7860962748527527,\n",
       "  0.7860962748527527,\n",
       "  0.7914438247680664,\n",
       "  0.7914438247680664,\n",
       "  0.7914438247680664,\n",
       "  0.7914438247680664,\n",
       "  0.7914438247680664,\n",
       "  0.7860962748527527,\n",
       "  0.7914438247680664,\n",
       "  0.7860962748527527,\n",
       "  0.7914438247680664,\n",
       "  0.7860962748527527,\n",
       "  0.7860962748527527,\n",
       "  0.7914438247680664,\n",
       "  0.7860962748527527,\n",
       "  0.7860962748527527,\n",
       "  0.7860962748527527,\n",
       "  0.7860962748527527,\n",
       "  0.7807486653327942,\n",
       "  0.7807486653327942,\n",
       "  0.7807486653327942,\n",
       "  0.7860962748527527,\n",
       "  0.7860962748527527,\n",
       "  0.7860962748527527,\n",
       "  0.7860962748527527,\n",
       "  0.7860962748527527,\n",
       "  0.7860962748527527,\n",
       "  0.7860962748527527,\n",
       "  0.7914438247680664,\n",
       "  0.7914438247680664,\n",
       "  0.7914438247680664,\n",
       "  0.7914438247680664,\n",
       "  0.7914438247680664,\n",
       "  0.7860962748527527,\n",
       "  0.7860962748527527,\n",
       "  0.7914438247680664,\n",
       "  0.7914438247680664,\n",
       "  0.7914438247680664,\n",
       "  0.7914438247680664,\n",
       "  0.7914438247680664,\n",
       "  0.7914438247680664,\n",
       "  0.7914438247680664,\n",
       "  0.7914438247680664,\n",
       "  0.7914438247680664,\n",
       "  0.7914438247680664,\n",
       "  0.7914438247680664,\n",
       "  0.7914438247680664,\n",
       "  0.7914438247680664,\n",
       "  0.7914438247680664,\n",
       "  0.7860962748527527,\n",
       "  0.7914438247680664,\n",
       "  0.7914438247680664,\n",
       "  0.7914438247680664,\n",
       "  0.7914438247680664,\n",
       "  0.7914438247680664,\n",
       "  0.7914438247680664,\n",
       "  0.7914438247680664,\n",
       "  0.7914438247680664,\n",
       "  0.7914438247680664,\n",
       "  0.7914438247680664,\n",
       "  0.7914438247680664,\n",
       "  0.7914438247680664,\n",
       "  0.7914438247680664,\n",
       "  0.7914438247680664,\n",
       "  0.7860962748527527,\n",
       "  0.7860962748527527,\n",
       "  0.7860962748527527,\n",
       "  0.7860962748527527]}"
      ]
     },
     "execution_count": 39,
     "metadata": {},
     "output_type": "execute_result"
    }
   ],
   "source": [
    "history.history"
   ]
  },
  {
   "cell_type": "code",
   "execution_count": 40,
   "id": "35b1c064",
   "metadata": {},
   "outputs": [],
   "source": [
    "from keras.backend import clear_session\n",
    "clear_session()"
   ]
  },
  {
   "cell_type": "code",
   "execution_count": 41,
   "id": "015f8c60",
   "metadata": {},
   "outputs": [
    {
     "name": "stdout",
     "output_type": "stream",
     "text": [
      "Training Accuracy: 1.0000\n",
      "Testing Accuracy:  0.7861\n"
     ]
    }
   ],
   "source": [
    "loss, accuracy = model.evaluate(X_train, y_train, verbose=False)\n",
    "print(\"Training Accuracy: {:.4f}\".format(accuracy))\n",
    "loss, accuracy = model.evaluate(X_test, y_test, verbose=False)\n",
    "print(\"Testing Accuracy:  {:.4f}\".format(accuracy))"
   ]
  },
  {
   "cell_type": "code",
   "execution_count": 42,
   "id": "8e5a2aa9",
   "metadata": {},
   "outputs": [],
   "source": [
    "import matplotlib.pyplot as plt\n",
    "plt.style.use('ggplot')\n",
    "\n",
    "def plot_history(history):\n",
    "    acc = history.history['accuracy']\n",
    "    val_acc = history.history['val_accuracy']\n",
    "    loss = history.history['loss']\n",
    "    val_loss = history.history['val_loss']\n",
    "    x = range(1, len(acc) + 1)\n",
    "\n",
    "    plt.figure(figsize=(12, 5))\n",
    "    plt.subplot(1, 2, 1)\n",
    "    plt.plot(x, acc, 'b', label='Training acc')\n",
    "    plt.plot(x, val_acc, 'r', label='Validation acc')\n",
    "    plt.title('Training and validation accuracy')\n",
    "    plt.legend()\n",
    "    plt.subplot(1, 2, 2)\n",
    "    plt.plot(x, loss, 'b', label='Training loss')\n",
    "    plt.plot(x, val_loss, 'r', label='Validation loss')\n",
    "    plt.title('Training and validation loss')\n",
    "    plt.legend()"
   ]
  },
  {
   "cell_type": "code",
   "execution_count": 43,
   "id": "6c07deaa",
   "metadata": {},
   "outputs": [
    {
     "data": {
      "image/png": "[encoded data removed]",
      "text/plain": [
       "<Figure size 864x360 with 2 Axes>"
      ]
     },
     "metadata": {},
     "output_type": "display_data"
    }
   ],
   "source": [
    "plot_history(history)"
   ]
  },
  {
   "cell_type": "code",
   "execution_count": 44,
   "id": "c0838523",
   "metadata": {},
   "outputs": [
    {
     "data": {
      "text/plain": [
       "['London', 'Berlin', 'Berlin', 'New York', 'London']"
      ]
     },
     "execution_count": 44,
     "metadata": {},
     "output_type": "execute_result"
    }
   ],
   "source": [
    "cities = ['London', 'Berlin', 'Berlin', 'New York', 'London']\n",
    "cities"
   ]
  },
  {
   "cell_type": "code",
   "execution_count": 45,
   "id": "361cf68b",
   "metadata": {},
   "outputs": [
    {
     "data": {
      "text/plain": [
       "array([1, 0, 0, 2, 1], dtype=int64)"
      ]
     },
     "execution_count": 45,
     "metadata": {},
     "output_type": "execute_result"
    }
   ],
   "source": [
    "from sklearn.preprocessing import LabelEncoder\n",
    "\n",
    "encoder = LabelEncoder()\n",
    "city_labels = encoder.fit_transform(cities)\n",
    "city_labels"
   ]
  },
  {
   "cell_type": "code",
   "execution_count": 46,
   "id": "84886fd3",
   "metadata": {},
   "outputs": [
    {
     "data": {
      "text/plain": [
       "array([[0., 1., 0.],\n",
       "       [1., 0., 0.],\n",
       "       [1., 0., 0.],\n",
       "       [0., 0., 1.],\n",
       "       [0., 1., 0.]])"
      ]
     },
     "execution_count": 46,
     "metadata": {},
     "output_type": "execute_result"
    }
   ],
   "source": [
    "from sklearn.preprocessing import OneHotEncoder\n",
    "\n",
    "encoder = OneHotEncoder(sparse=False)\n",
    "city_labels = city_labels.reshape((5, 1))\n",
    "encoder.fit_transform(city_labels)"
   ]
  },
  {
   "cell_type": "code",
   "execution_count": 47,
   "id": "4237d20f",
   "metadata": {},
   "outputs": [
    {
     "name": "stdout",
     "output_type": "stream",
     "text": [
      "I am a fan of his ... This movie sucked really bad.  \n",
      "[7, 150, 2, 932, 4, 49, 6, 11, 563, 45, 30]\n"
     ]
    }
   ],
   "source": [
    "from keras.preprocessing.text import Tokenizer\n",
    "\n",
    "tokenizer = Tokenizer(num_words=5000)\n",
    "tokenizer.fit_on_texts(sentences_train)\n",
    "\n",
    "X_train = tokenizer.texts_to_sequences(sentences_train)\n",
    "X_test = tokenizer.texts_to_sequences(sentences_test)\n",
    "\n",
    "vocab_size = len(tokenizer.word_index) + 1  # Adding 1 because of reserved 0 index\n",
    "\n",
    "print(sentences_train[2])\n",
    "print(X_train[2])"
   ]
  },
  {
   "cell_type": "code",
   "execution_count": 51,
   "id": "30e6cadc",
   "metadata": {},
   "outputs": [
    {
     "name": "stdout",
     "output_type": "stream",
     "text": [
      "the: 1\n",
      "all: 27\n"
     ]
    },
    {
     "ename": "KeyError",
     "evalue": "'sad'",
     "output_type": "error",
     "traceback": [
      "\u001b[1;31m---------------------------------------------------------------------------\u001b[0m",
      "\u001b[1;31mKeyError\u001b[0m                                  Traceback (most recent call last)",
      "Input \u001b[1;32mIn [51]\u001b[0m, in \u001b[0;36m<cell line: 1>\u001b[1;34m()\u001b[0m\n\u001b[0;32m      1\u001b[0m \u001b[38;5;28;01mfor\u001b[39;00m word \u001b[38;5;129;01min\u001b[39;00m [\u001b[38;5;124m'\u001b[39m\u001b[38;5;124mthe\u001b[39m\u001b[38;5;124m'\u001b[39m, \u001b[38;5;124m'\u001b[39m\u001b[38;5;124mall\u001b[39m\u001b[38;5;124m'\u001b[39m, \u001b[38;5;124m'\u001b[39m\u001b[38;5;124msad\u001b[39m\u001b[38;5;124m'\u001b[39m]:\n\u001b[1;32m----> 2\u001b[0m     \u001b[38;5;28mprint\u001b[39m(\u001b[38;5;124m'\u001b[39m\u001b[38;5;132;01m{}\u001b[39;00m\u001b[38;5;124m: \u001b[39m\u001b[38;5;132;01m{}\u001b[39;00m\u001b[38;5;124m'\u001b[39m\u001b[38;5;241m.\u001b[39mformat(word, \u001b[43mtokenizer\u001b[49m\u001b[38;5;241;43m.\u001b[39;49m\u001b[43mword_index\u001b[49m\u001b[43m[\u001b[49m\u001b[43mword\u001b[49m\u001b[43m]\u001b[49m))\n",
      "\u001b[1;31mKeyError\u001b[0m: 'sad'"
     ]
    }
   ],
   "source": [
    "for word in ['the', 'all', 'happy', 'sad']:\n",
    "    print('{}: {}'.format(word, tokenizer.word_index[word]))"
   ]
  },
  {
   "cell_type": "code",
   "execution_count": 58,
   "id": "dd799b97",
   "metadata": {},
   "outputs": [
    {
     "name": "stdout",
     "output_type": "stream",
     "text": [
      "[170 116 390  35   0   0   0   0   0   0   0   0   0   0   0   0   0   0\n",
      "   0   0   0   0   0   0   0   0   0   0   0   0   0   0   0   0   0   0\n",
      "   0   0   0   0   0   0   0   0   0   0   0   0   0   0   0   0   0   0\n",
      "   0   0   0   0   0   0   0   0   0   0   0   0   0   0   0   0   0   0\n",
      "   0   0   0   0   0   0   0   0   0   0   0   0   0   0   0   0   0   0\n",
      "   0   0   0   0   0   0   0   0   0   0]\n"
     ]
    }
   ],
   "source": [
    "from keras.preprocessing.sequence import pad_sequences\n",
    "\n",
    "maxlen = 100\n",
    "\n",
    "X_train = pad_sequences(X_train, padding='post', maxlen=maxlen)\n",
    "X_test = pad_sequences(X_test, padding='post', maxlen=maxlen)\n",
    "\n",
    "print(X_train[0, :])"
   ]
  },
  {
   "cell_type": "code",
   "execution_count": 59,
   "id": "e6a0aed7",
   "metadata": {},
   "outputs": [
    {
     "name": "stdout",
     "output_type": "stream",
     "text": [
      "Model: \"sequential\"\n",
      "_________________________________________________________________\n",
      " Layer (type)                Output Shape              Param #   \n",
      "=================================================================\n",
      " embedding (Embedding)       (None, 100, 50)           128750    \n",
      "                                                                 \n",
      " flatten (Flatten)           (None, 5000)              0         \n",
      "                                                                 \n",
      " dense (Dense)               (None, 10)                50010     \n",
      "                                                                 \n",
      " dense_1 (Dense)             (None, 1)                 11        \n",
      "                                                                 \n",
      "=================================================================\n",
      "Total params: 178,771\n",
      "Trainable params: 178,771\n",
      "Non-trainable params: 0\n",
      "_________________________________________________________________\n"
     ]
    }
   ],
   "source": [
    "from keras.models import Sequential\n",
    "from keras import layers\n",
    "\n",
    "embedding_dim = 50\n",
    "\n",
    "model = Sequential()\n",
    "model.add(layers.Embedding(input_dim=vocab_size, \n",
    "                           output_dim=embedding_dim, \n",
    "                           input_length=maxlen))\n",
    "model.add(layers.Flatten())\n",
    "model.add(layers.Dense(10, activation='relu'))\n",
    "model.add(layers.Dense(1, activation='sigmoid'))\n",
    "model.compile(optimizer='adam',\n",
    "              loss='binary_crossentropy',\n",
    "              metrics=['accuracy'])\n",
    "model.summary()"
   ]
  },
  {
   "cell_type": "code",
   "execution_count": 60,
   "id": "297874f3",
   "metadata": {},
   "outputs": [
    {
     "name": "stdout",
     "output_type": "stream",
     "text": [
      "Training Accuracy: 1.0000\n",
      "Testing Accuracy:  0.7166\n"
     ]
    },
    {
     "data": {
      "image/png": "[encoded data removed]",
      "text/plain": [
       "<Figure size 864x360 with 2 Axes>"
      ]
     },
     "metadata": {},
     "output_type": "display_data"
    }
   ],
   "source": [
    "history = model.fit(X_train, y_train,\n",
    "                    epochs=20,\n",
    "                    verbose=False,\n",
    "                    validation_data=(X_test, y_test),\n",
    "                    batch_size=10)\n",
    "loss, accuracy = model.evaluate(X_train, y_train, verbose=False)\n",
    "print(\"Training Accuracy: {:.4f}\".format(accuracy))\n",
    "loss, accuracy = model.evaluate(X_test, y_test, verbose=False)\n",
    "print(\"Testing Accuracy:  {:.4f}\".format(accuracy))\n",
    "plot_history(history)"
   ]
  },
  {
   "cell_type": "code",
   "execution_count": 61,
   "id": "ac9ad6a0",
   "metadata": {},
   "outputs": [
    {
     "name": "stdout",
     "output_type": "stream",
     "text": [
      "Model: \"sequential_1\"\n",
      "_________________________________________________________________\n",
      " Layer (type)                Output Shape              Param #   \n",
      "=================================================================\n",
      " embedding_1 (Embedding)     (None, 100, 50)           128750    \n",
      "                                                                 \n",
      " global_max_pooling1d (Globa  (None, 50)               0         \n",
      " lMaxPooling1D)                                                  \n",
      "                                                                 \n",
      " dense_2 (Dense)             (None, 10)                510       \n",
      "                                                                 \n",
      " dense_3 (Dense)             (None, 1)                 11        \n",
      "                                                                 \n",
      "=================================================================\n",
      "Total params: 129,271\n",
      "Trainable params: 129,271\n",
      "Non-trainable params: 0\n",
      "_________________________________________________________________\n"
     ]
    }
   ],
   "source": [
    "from keras.models import Sequential\n",
    "from keras import layers\n",
    "\n",
    "embedding_dim = 50\n",
    "\n",
    "model = Sequential()\n",
    "model.add(layers.Embedding(input_dim=vocab_size, \n",
    "                           output_dim=embedding_dim, \n",
    "                           input_length=maxlen))\n",
    "model.add(layers.GlobalMaxPool1D())\n",
    "model.add(layers.Dense(10, activation='relu'))\n",
    "model.add(layers.Dense(1, activation='sigmoid'))\n",
    "model.compile(optimizer='adam',\n",
    "              loss='binary_crossentropy',\n",
    "              metrics=['accuracy'])\n",
    "model.summary()"
   ]
  },
  {
   "cell_type": "code",
   "execution_count": 62,
   "id": "130e53b8",
   "metadata": {},
   "outputs": [
    {
     "name": "stdout",
     "output_type": "stream",
     "text": [
      "Training Accuracy: 1.0000\n",
      "Testing Accuracy:  0.8128\n"
     ]
    },
    {
     "data": {
      "image/png": "[encoded data removed]",
      "text/plain": [
       "<Figure size 864x360 with 2 Axes>"
      ]
     },
     "metadata": {},
     "output_type": "display_data"
    }
   ],
   "source": [
    "history = model.fit(X_train, y_train,\n",
    "                    epochs=50,\n",
    "                    verbose=False,\n",
    "                    validation_data=(X_test, y_test),\n",
    "                    batch_size=10)\n",
    "loss, accuracy = model.evaluate(X_train, y_train, verbose=False)\n",
    "print(\"Training Accuracy: {:.4f}\".format(accuracy))\n",
    "loss, accuracy = model.evaluate(X_test, y_test, verbose=False)\n",
    "print(\"Testing Accuracy:  {:.4f}\".format(accuracy))\n",
    "plot_history(history)"
   ]
  },
  {
   "cell_type": "code",
   "execution_count": 63,
   "id": "799d3385",
   "metadata": {},
   "outputs": [],
   "source": [
    "import numpy as np\n",
    "\n",
    "def create_embedding_matrix(filepath, word_index, embedding_dim):\n",
    "    vocab_size = len(word_index) + 1  # Adding again 1 because of reserved 0 index\n",
    "    embedding_matrix = np.zeros((vocab_size, embedding_dim))\n",
    "\n",
    "    with open(filepath) as f:\n",
    "        for line in f:\n",
    "            word, *vector = line.split()\n",
    "            if word in word_index:\n",
    "                idx = word_index[word] \n",
    "                embedding_matrix[idx] = np.array(\n",
    "                    vector, dtype=np.float32)[:embedding_dim]\n",
    "\n",
    "    return embedding_matrix"
   ]
  },
  {
   "cell_type": "code",
   "execution_count": 64,
   "id": "b9ad41ea",
   "metadata": {},
   "outputs": [
    {
     "ename": "FileNotFoundError",
     "evalue": "[Errno 2] No such file or directory: 'data/glove_word_embeddings/glove.6B.50d.txt'",
     "output_type": "error",
     "traceback": [
      "\u001b[1;31m---------------------------------------------------------------------------\u001b[0m",
      "\u001b[1;31mFileNotFoundError\u001b[0m                         Traceback (most recent call last)",
      "Input \u001b[1;32mIn [64]\u001b[0m, in \u001b[0;36m<cell line: 2>\u001b[1;34m()\u001b[0m\n\u001b[0;32m      1\u001b[0m embedding_dim \u001b[38;5;241m=\u001b[39m \u001b[38;5;241m50\u001b[39m\n\u001b[1;32m----> 2\u001b[0m embedding_matrix \u001b[38;5;241m=\u001b[39m \u001b[43mcreate_embedding_matrix\u001b[49m\u001b[43m(\u001b[49m\u001b[38;5;124;43m'\u001b[39;49m\u001b[38;5;124;43mdata/glove_word_embeddings/glove.6B.50d.txt\u001b[39;49m\u001b[38;5;124;43m'\u001b[39;49m\u001b[43m,\u001b[49m\u001b[43mtokenizer\u001b[49m\u001b[38;5;241;43m.\u001b[39;49m\u001b[43mword_index\u001b[49m\u001b[43m,\u001b[49m\u001b[43m \u001b[49m\u001b[43membedding_dim\u001b[49m\u001b[43m)\u001b[49m\n",
      "Input \u001b[1;32mIn [63]\u001b[0m, in \u001b[0;36mcreate_embedding_matrix\u001b[1;34m(filepath, word_index, embedding_dim)\u001b[0m\n\u001b[0;32m      4\u001b[0m vocab_size \u001b[38;5;241m=\u001b[39m \u001b[38;5;28mlen\u001b[39m(word_index) \u001b[38;5;241m+\u001b[39m \u001b[38;5;241m1\u001b[39m  \u001b[38;5;66;03m# Adding again 1 because of reserved 0 index\u001b[39;00m\n\u001b[0;32m      5\u001b[0m embedding_matrix \u001b[38;5;241m=\u001b[39m np\u001b[38;5;241m.\u001b[39mzeros((vocab_size, embedding_dim))\n\u001b[1;32m----> 7\u001b[0m \u001b[38;5;28;01mwith\u001b[39;00m \u001b[38;5;28;43mopen\u001b[39;49m\u001b[43m(\u001b[49m\u001b[43mfilepath\u001b[49m\u001b[43m)\u001b[49m \u001b[38;5;28;01mas\u001b[39;00m f:\n\u001b[0;32m      8\u001b[0m     \u001b[38;5;28;01mfor\u001b[39;00m line \u001b[38;5;129;01min\u001b[39;00m f:\n\u001b[0;32m      9\u001b[0m         word, \u001b[38;5;241m*\u001b[39mvector \u001b[38;5;241m=\u001b[39m line\u001b[38;5;241m.\u001b[39msplit()\n",
      "\u001b[1;31mFileNotFoundError\u001b[0m: [Errno 2] No such file or directory: 'data/glove_word_embeddings/glove.6B.50d.txt'"
     ]
    }
   ],
   "source": [
    "embedding_dim = 50\n",
    "embedding_matrix = create_embedding_matrix('data/glove_word_embeddings/glove.6B.50d.txt',tokenizer.word_index, embedding_dim)"
   ]
  },
  {
   "cell_type": "code",
   "execution_count": null,
   "id": "cc905e9f",
   "metadata": {},
   "outputs": [],
   "source": [
    "nonzero_elements = np.count_nonzero(np.count_nonzero(embedding_matrix, axis=1))\n",
    "nonzero_elements / vocab_size"
   ]
  },
  {
   "cell_type": "code",
   "execution_count": null,
   "id": "7138992e",
   "metadata": {},
   "outputs": [],
   "source": [
    "model = Sequential()\n",
    "model.add(layers.Embedding(vocab_size, embedding_dim, \n",
    "                           weights=[embedding_matrix], \n",
    "                           input_length=maxlen, \n",
    "                           trainable=False))\n",
    "model.add(layers.GlobalMaxPool1D())\n",
    "model.add(layers.Dense(10, activation='relu'))\n",
    "model.add(layers.Dense(1, activation='sigmoid'))\n",
    "model.compile(optimizer='adam',\n",
    "              loss='binary_crossentropy',\n",
    "              metrics=['accuracy'])\n",
    "model.summary()"
   ]
  },
  {
   "cell_type": "code",
   "execution_count": null,
   "id": "d8ca908a",
   "metadata": {},
   "outputs": [],
   "source": [
    "history = model.fit(X_train, y_train,\n",
    "                    epochs=50,\n",
    "                    verbose=False,\n",
    "                    validation_data=(X_test, y_test),\n",
    "                    batch_size=10)\n",
    "loss, accuracy = model.evaluate(X_train, y_train, verbose=False)\n",
    "print(\"Training Accuracy: {:.4f}\".format(accuracy))\n",
    "loss, accuracy = model.evaluate(X_test, y_test, verbose=False)\n",
    "print(\"Testing Accuracy:  {:.4f}\".format(accuracy))\n",
    "plot_history(history)"
   ]
  },
  {
   "cell_type": "code",
   "execution_count": null,
   "id": "5124b2fd",
   "metadata": {},
   "outputs": [],
   "source": [
    "model = Sequential()\n",
    "model.add(layers.Embedding(vocab_size, embedding_dim, \n",
    "                           weights=[embedding_matrix], \n",
    "                           input_length=maxlen, \n",
    "                           trainable=True))\n",
    "model.add(layers.GlobalMaxPool1D())\n",
    "model.add(layers.Dense(10, activation='relu'))\n",
    "model.add(layers.Dense(1, activation='sigmoid'))\n",
    "model.compile(optimizer='adam',\n",
    "              loss='binary_crossentropy',\n",
    "              metrics=['accuracy'])\n",
    "model.summary()"
   ]
  },
  {
   "cell_type": "code",
   "execution_count": null,
   "id": "e0122dc8",
   "metadata": {},
   "outputs": [],
   "source": [
    "history = model.fit(X_train, y_train,\n",
    "                    epochs=50,\n",
    "                    verbose=False,\n",
    "                    validation_data=(X_test, y_test),\n",
    "                    batch_size=10)\n",
    "loss, accuracy = model.evaluate(X_train, y_train, verbose=False)\n",
    "print(\"Training Accuracy: {:.4f}\".format(accuracy))\n",
    "loss, accuracy = model.evaluate(X_test, y_test, verbose=False)\n",
    "print(\"Testing Accuracy:  {:.4f}\".format(accuracy))\n",
    "plot_history(history)"
   ]
  },
  {
   "cell_type": "code",
   "execution_count": null,
   "id": "c1cba533",
   "metadata": {},
   "outputs": [],
   "source": [
    "embedding_dim = 100\n",
    "\n",
    "model = Sequential()\n",
    "model.add(layers.Embedding(vocab_size, embedding_dim, input_length=maxlen))\n",
    "model.add(layers.Conv1D(128, 5, activation='relu'))\n",
    "model.add(layers.GlobalMaxPooling1D())\n",
    "model.add(layers.Dense(10, activation='relu'))\n",
    "model.add(layers.Dense(1, activation='sigmoid'))\n",
    "model.compile(optimizer='adam',\n",
    "              loss='binary_crossentropy',\n",
    "              metrics=['accuracy'])\n",
    "model.summary()"
   ]
  },
  {
   "cell_type": "code",
   "execution_count": null,
   "id": "0007cec0",
   "metadata": {},
   "outputs": [],
   "source": [
    "history = model.fit(X_train, y_train,\n",
    "                    epochs=10,\n",
    "                    verbose=False,\n",
    "                    validation_data=(X_test, y_test),\n",
    "                    batch_size=10)\n",
    "loss, accuracy = model.evaluate(X_train, y_train, verbose=False)\n",
    "print(\"Training Accuracy: {:.4f}\".format(accuracy))\n",
    "loss, accuracy = model.evaluate(X_test, y_test, verbose=False)\n",
    "print(\"Testing Accuracy:  {:.4f}\".format(accuracy))\n",
    "plot_history(history)"
   ]
  },
  {
   "cell_type": "code",
   "execution_count": null,
   "id": "9a0eedad",
   "metadata": {},
   "outputs": [],
   "source": [
    "def create_model(num_filters, kernel_size, vocab_size, embedding_dim, maxlen):\n",
    "    model = Sequential()\n",
    "    model.add(layers.Embedding(vocab_size, embedding_dim, input_length=maxlen))\n",
    "    model.add(layers.Conv1D(num_filters, kernel_size, activation='relu'))\n",
    "    model.add(layers.GlobalMaxPooling1D())\n",
    "    model.add(layers.Dense(10, activation='relu'))\n",
    "    model.add(layers.Dense(1, activation='sigmoid'))\n",
    "    model.compile(optimizer='adam',\n",
    "                  loss='binary_crossentropy',\n",
    "                  metrics=['accuracy'])\n",
    "    return model"
   ]
  },
  {
   "cell_type": "code",
   "execution_count": null,
   "id": "dce44e94",
   "metadata": {},
   "outputs": [],
   "source": [
    "param_grid = dict(num_filters=[32, 64, 128],\n",
    "                  kernel_size=[3, 5, 7],\n",
    "                  vocab_size=[5000], \n",
    "                  embedding_dim=[50],\n",
    "                  maxlen=[100])"
   ]
  },
  {
   "cell_type": "code",
   "execution_count": null,
   "id": "a9f68a6d",
   "metadata": {},
   "outputs": [],
   "source": [
    "from keras.wrappers.scikit_learn import KerasClassifier\n",
    "from sklearn.model_selection import RandomizedSearchCV\n",
    "\n",
    "# Main settings\n",
    "epochs = 20\n",
    "embedding_dim = 50\n",
    "maxlen = 100\n",
    "output_file = 'data/output.txt'\n",
    "\n",
    "# Run grid search for each source (yelp, amazon, imdb)\n",
    "for source, frame in df.groupby('source'):\n",
    "    print('Running grid search for data set :', source)\n",
    "    sentences = df['sentence'].values\n",
    "    y = df['label'].values\n",
    "\n",
    "    # Train-test split\n",
    "    sentences_train, sentences_test, y_train, y_test = train_test_split(\n",
    "        sentences, y, test_size=0.25, random_state=1000)\n",
    "\n",
    "    # Tokenize words\n",
    "    tokenizer = Tokenizer(num_words=5000)\n",
    "    tokenizer.fit_on_texts(sentences_train)\n",
    "    X_train = tokenizer.texts_to_sequences(sentences_train)\n",
    "    X_test = tokenizer.texts_to_sequences(sentences_test)\n",
    "\n",
    "    # Adding 1 because of reserved 0 index\n",
    "    vocab_size = len(tokenizer.word_index) + 1\n",
    "\n",
    "    # Pad sequences with zeros\n",
    "    X_train = pad_sequences(X_train, padding='post', maxlen=maxlen)\n",
    "    X_test = pad_sequences(X_test, padding='post', maxlen=maxlen)\n",
    "\n",
    "    # Parameter grid for grid search\n",
    "    param_grid = dict(num_filters=[32, 64, 128],\n",
    "                      kernel_size=[3, 5, 7],\n",
    "                      vocab_size=[vocab_size],\n",
    "                      embedding_dim=[embedding_dim],\n",
    "                      maxlen=[maxlen])\n",
    "    model = KerasClassifier(build_fn=create_model,\n",
    "                            epochs=epochs, batch_size=10,\n",
    "                            verbose=False)\n",
    "    grid = RandomizedSearchCV(estimator=model, param_distributions=param_grid,\n",
    "                              cv=4, verbose=1, n_iter=5)\n",
    "    grid_result = grid.fit(X_train, y_train)\n",
    "\n",
    "    # Evaluate testing set\n",
    "    test_accuracy = grid.score(X_test, y_test)\n",
    "\n",
    "    # Save and evaluate results\n",
    "    prompt = input(f'finished {source}; write to file and proceed? [y/n]')\n",
    "    if prompt.lower() not in {'y', 'true', 'yes'}:\n",
    "        break\n",
    "    with open(output_file, 'a') as f:\n",
    "        s = ('Running {} data set\\nBest Accuracy : '\n",
    "             '{:.4f}\\n{}\\nTest Accuracy : {:.4f}\\n\\n')\n",
    "        output_string = s.format(\n",
    "            source,\n",
    "            grid_result.best_score_,\n",
    "            grid_result.best_params_,\n",
    "            test_accuracy)\n",
    "        print(output_string)\n",
    "        f.write(output_string)"
   ]
  }
 ],
 "metadata": {
  "kernelspec": {
   "display_name": "Python 3 (ipykernel)",
   "language": "python",
   "name": "python3"
  },
  "language_info": {
   "codemirror_mode": {
    "name": "ipython",
    "version": 3
   },
   "file_extension": ".py",
   "mimetype": "text/x-python",
   "name": "python",
   "nbconvert_exporter": "python",
   "pygments_lexer": "ipython3",
   "version": "3.9.12"
  }
 },
 "nbformat": 4,
 "nbformat_minor": 5
}
